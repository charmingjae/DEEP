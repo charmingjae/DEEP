{
 "cells": [
  {
   "cell_type": "markdown",
   "metadata": {},
   "source": [
    "# 신경망 모델 구현"
   ]
  },
  {
   "cell_type": "code",
   "execution_count": 9,
   "metadata": {},
   "outputs": [],
   "source": [
    "## NUMPY -> 수치해석용 라이브러리\n",
    "## 사이킷런 -> 머신러닝 라이브러리\n",
    "\n",
    "import torch\n",
    "import numpy\n",
    "from sklearn.datasets import make_blobs\n",
    "import matplotlib.pyplot as plt\n",
    "import torch.nn.functional as F"
   ]
  },
  {
   "cell_type": "code",
   "execution_count": 4,
   "metadata": {},
   "outputs": [],
   "source": [
    "# 데이터셋 제작\n",
    "# x_train, y_train -> 신경망 학습에 쓰이는 데이터와 레이블\n",
    "# x_test, y_test -> 학습이 끝난 신경망의 성능을 평가하고 실험하는 데 쓰임\n",
    "\n",
    "n_dim = 2\n",
    "x_train, y_train = make_blobs(n_samples=50, n_features=n_dim,\n",
    "                             centers=[[1,1],[-1,-1],[1,-1],[-1,1]],\n",
    "                             shuffle=True, cluster_std=0.3)\n",
    "\n",
    "x_test, y_test = make_blobs(n_samples=20, n_features=n_dim,\n",
    "                           centers=[[1,1],[-1,-1],[1,-1],[-1,1]],\n",
    "                           shuffle=True, cluster_std=0.3)\n",
    "\n",
    "# 사이킷런의 make_blobs() 함수를 이용하여 데이터를 2차원 벡터 형태로 제작.\n",
    "# 학습 데이터셋에는 80개, 실험 데이터셋에는 20개의 2차원 벡터 데이터를 담음.\n",
    "# x_train과 x_test속 모든 데이터는 0,1,2,3으로 인덱싱이 되어 있음."
   ]
  },
  {
   "cell_type": "code",
   "execution_count": 5,
   "metadata": {},
   "outputs": [],
   "source": [
    "# 4개의 레이블을 2개로 합치는 과정\n",
    "\n",
    "def label_map(y_, from_, to_):\n",
    "    y=numpy.copy(y_)\n",
    "    for f in from_:\n",
    "        y[y_ == f] = to_\n",
    "    return y\n",
    "\n",
    "y_train = label_map(y_train, [0, 1], 0)\n",
    "y_train = label_map(y_train, [2, 3], 1)\n",
    "y_test = label_map(y_test, [0, 1], 0)\n",
    "y_test = label_map(y_test, [2, 3], 1)"
   ]
  },
  {
   "cell_type": "code",
   "execution_count": 13,
   "metadata": {},
   "outputs": [
    {
     "data": {
      "image/png": "[encoded data removed]",
      "text/plain": [
       "<Figure size 432x288 with 1 Axes>"
      ]
     },
     "metadata": {
      "needs_background": "light"
     },
     "output_type": "display_data"
    }
   ],
   "source": [
    "# 데이터 시각화\n",
    "\n",
    "def vis_Data(x, y = None, c = 'r'):\n",
    "    if y is None:\n",
    "        y=[None] * len(x)\n",
    "    for x_, y_ in zip(x,y):\n",
    "        if y_ is None:\n",
    "            plt.plot(x_[0], x_[1], '*', markerfacecolor='none', markeredgecolor=c)\n",
    "        else:\n",
    "            plt.plot(x_[0], x_[1], c+'o' if y_ == 0 else c+'+')\n",
    "            \n",
    "plt.figure()\n",
    "vis_Data(x_train, y_train, c='r')\n",
    "plt.show()"
   ]
  },
  {
   "cell_type": "code",
   "execution_count": 14,
   "metadata": {},
   "outputs": [],
   "source": [
    "# 넘파이 벡터 형식 데이터를 파이토치 텐서로 변경\n",
    "\n",
    "x_train = torch.FloatTensor(x_train)\n",
    "x_test = torch.FloatTensor(x_test)\n",
    "y_train = torch.FloatTensor(y_train)\n",
    "y_test = torch.FloatTensor(y_test)"
   ]
  },
  {
   "cell_type": "code",
   "execution_count": 16,
   "metadata": {},
   "outputs": [],
   "source": [
    "# 신경망 모델 구현\n",
    "\n",
    "class NeuralNet(torch.nn.Module):\n",
    "    def __init__(self, input_size, hidden_size):\n",
    "        super(NeuralNet,self).__init__() # input_size = 신경망에 입력되는 데이터의 차원.\n",
    "        self.input_size = input_size\n",
    "        self.hidden_size = hidden_size\n",
    "        \n",
    "        # 입력된 데이터가 인공 신경망을 통과하면서 거치는 연산(하단)\n",
    "        self.linear_1 = torch.nn.Linear(self.input_size, self.hidden_size)\n",
    "        self.relu = torch.nn.ReLU()\n",
    "        self.linear_2 = torch.nn.Linear(self.hidden_size, 1)\n",
    "        self.sigmoid = torch.nn.Sigmoid()\n",
    "        \n",
    "    def forward(self, input_tensor):\n",
    "        linear1 = self.linear_1(input_tensor)\n",
    "        relu = self.relu(linear1)\n",
    "        linear2 = self.linear_2(relu)\n",
    "        output = self.sigmoid(linear2)\n",
    "        return output\n",
    "        # 01.09. 무슨 개소리인지 잘 모르겠음."
   ]
  }
 ],
 "metadata": {
  "kernelspec": {
   "display_name": "Python 3",
   "language": "python",
   "name": "python3"
  },
  "language_info": {
   "codemirror_mode": {
    "name": "ipython",
    "version": 3
   },
   "file_extension": ".py",
   "mimetype": "text/x-python",
   "name": "python",
   "nbconvert_exporter": "python",
   "pygments_lexer": "ipython3",
   "version": "3.7.4"
  }
 },
 "nbformat": 4,
 "nbformat_minor": 2
}
