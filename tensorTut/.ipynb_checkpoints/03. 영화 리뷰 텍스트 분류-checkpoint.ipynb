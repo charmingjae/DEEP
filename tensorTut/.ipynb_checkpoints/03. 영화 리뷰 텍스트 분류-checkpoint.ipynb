{
 "cells": [
  {
   "cell_type": "markdown",
   "metadata": {},
   "source": [
    "# 영화 리뷰 텍스트 분류\n"
   ]
  },
  {
   "cell_type": "code",
   "execution_count": 2,
   "metadata": {},
   "outputs": [
    {
     "name": "stdout",
     "output_type": "stream",
     "text": [
      "2.3.0-dev20200514\n"
     ]
    }
   ],
   "source": [
    "from __future__ import absolute_import, division, print_function, unicode_literals\n",
    "\n",
    "import tensorflow as tf\n",
    "from tensorflow import keras\n",
    "\n",
    "import numpy as np\n",
    "\n",
    "print(tf.__version__)"
   ]
  },
  {
   "cell_type": "code",
   "execution_count": 3,
   "metadata": {
    "scrolled": true
   },
   "outputs": [],
   "source": [
    "# num_words=10000\n",
    "# 훈련 데이터에서 가장 많이 등장하는 상위 10,000개의 단어\n",
    "\n",
    "imdb = keras.datasets.imdb\n",
    "\n",
    "(train_data, train_labels), (test_data, test_labels) = imdb.load_data(num_words=10000)"
   ]
  },
  {
   "cell_type": "code",
   "execution_count": 4,
   "metadata": {},
   "outputs": [
    {
     "name": "stdout",
     "output_type": "stream",
     "text": [
      "훈련 샘플 : 25000, 레이블 : 25000\n"
     ]
    }
   ],
   "source": [
    "# 레이블 0: 부정적인 / 리뷰 1: 긍정적인 리뷰\n",
    "\n",
    "print(\"훈련 샘플 : {}, 레이블 : {}\".format(len(train_data), len(train_labels)))"
   ]
  },
  {
   "cell_type": "code",
   "execution_count": 5,
   "metadata": {},
   "outputs": [
    {
     "name": "stdout",
     "output_type": "stream",
     "text": [
      "[1, 14, 22, 16, 43, 530, 973, 1622, 1385, 65, 458, 4468, 66, 3941, 4, 173, 36, 256, 5, 25, 100, 43, 838, 112, 50, 670, 2, 9, 35, 480, 284, 5, 150, 4, 172, 112, 167, 2, 336, 385, 39, 4, 172, 4536, 1111, 17, 546, 38, 13, 447, 4, 192, 50, 16, 6, 147, 2025, 19, 14, 22, 4, 1920, 4613, 469, 4, 22, 71, 87, 12, 16, 43, 530, 38, 76, 15, 13, 1247, 4, 22, 17, 515, 17, 12, 16, 626, 18, 2, 5, 62, 386, 12, 8, 316, 8, 106, 5, 4, 2223, 5244, 16, 480, 66, 3785, 33, 4, 130, 12, 16, 38, 619, 5, 25, 124, 51, 36, 135, 48, 25, 1415, 33, 6, 22, 12, 215, 28, 77, 52, 5, 14, 407, 16, 82, 2, 8, 4, 107, 117, 5952, 15, 256, 4, 2, 7, 3766, 5, 723, 36, 71, 43, 530, 476, 26, 400, 317, 46, 7, 4, 2, 1029, 13, 104, 88, 4, 381, 15, 297, 98, 32, 2071, 56, 26, 141, 6, 194, 7486, 18, 4, 226, 22, 21, 134, 476, 26, 480, 5, 144, 30, 5535, 18, 51, 36, 28, 224, 92, 25, 104, 4, 226, 65, 16, 38, 1334, 88, 12, 16, 283, 5, 16, 4472, 113, 103, 32, 15, 16, 5345, 19, 178, 32]\n"
     ]
    }
   ],
   "source": [
    "# 첫 번째 리뷰 확인\n",
    "# 리뷰 텍스트는 어휘 사전의 특정 단어를 나타내는 정수로 변환되어 있다.\n",
    "\n",
    "print(train_data[0])"
   ]
  },
  {
   "cell_type": "code",
   "execution_count": 6,
   "metadata": {},
   "outputs": [
    {
     "data": {
      "text/plain": [
       "(218, 189)"
      ]
     },
     "execution_count": 6,
     "metadata": {},
     "output_type": "execute_result"
    }
   ],
   "source": [
    "# 영화 리뷰들은 길이가 다 다르다. 따라서 첫 번째 리뷰와 두 번째 리뷰에서 단어의 개수를 출력.\n",
    "\n",
    "len(train_data[0]), len(train_data[1])"
   ]
  },
  {
   "cell_type": "code",
   "execution_count": 7,
   "metadata": {},
   "outputs": [],
   "source": [
    "# 정수를 단어로 다시 변환하기\n",
    "\n",
    "# 단어와 정수 인덱스를 매핑한 딕셔너리\n",
    "\n",
    "word_index = imdb.get_word_index()\n",
    "\n",
    "# 처음 몇 개 인덱스는 사전에 정의되어 있다.\n",
    "word_index = {k:(v+3) for k, v in word_index.items()}\n",
    "word_index[\"<PAD>\"] = 0\n",
    "word_index[\"<START>\"] = 1\n",
    "word_index[\"<UNK>\"] = 2 # unknown\n",
    "word_index[\"<UNUSED>\"] = 3\n",
    "\n",
    "reverse_word_index = dict([(value,key) for (key,value) in word_index.items()])\n",
    "\n",
    "def decode_review(text) :\n",
    "    return ' ' .join([reverse_word_index.get(i, '?') for i in text])"
   ]
  },
  {
   "cell_type": "code",
   "execution_count": 8,
   "metadata": {},
   "outputs": [
    {
     "data": {
      "text/plain": [
       "\"<START> this film was just brilliant casting location scenery story direction everyone's really suited the part they played and you could just imagine being there robert <UNK> is an amazing actor and now the same being director <UNK> father came from the same scottish island as myself so i loved the fact there was a real connection with this film the witty remarks throughout the film were great it was just brilliant so much that i bought the film as soon as it was released for <UNK> and would recommend it to everyone to watch and the fly fishing was amazing really cried at the end it was so sad and you know what they say if you cry at a film it must have been good and this definitely was also <UNK> to the two little boy's that played the <UNK> of norman and paul they were just brilliant children are often left out of the <UNK> list i think because the stars that play them all grown up are such a big profile for the whole film but these children are amazing and should be praised for what they have done don't you think the whole story was so lovely because it was true and was someone's life after all that was shared with us all\""
      ]
     },
     "execution_count": 8,
     "metadata": {},
     "output_type": "execute_result"
    }
   ],
   "source": [
    "# 첫 번째 리뷰 텍스트 출력\n",
    "decode_review(train_data[0])"
   ]
  },
  {
   "cell_type": "code",
   "execution_count": 9,
   "metadata": {},
   "outputs": [],
   "source": [
    "train_data = keras.preprocessing.sequence.pad_sequences(train_data,\n",
    "                                                      value=word_index[\"<PAD>\"],\n",
    "                                                      padding='post',\n",
    "                                                      maxlen=256)\n",
    "\n",
    "test_data = keras.preprocessing.sequence.pad_sequences(test_data,\n",
    "                                                     value=word_index[\"<PAD>\"],\n",
    "                                                     padding='post',\n",
    "                                                     maxlen=256)"
   ]
  },
  {
   "cell_type": "code",
   "execution_count": 10,
   "metadata": {},
   "outputs": [
    {
     "data": {
      "text/plain": [
       "(256, 256)"
      ]
     },
     "execution_count": 10,
     "metadata": {},
     "output_type": "execute_result"
    }
   ],
   "source": [
    "len(train_data[0]), len(train_data[1])"
   ]
  },
  {
   "cell_type": "code",
   "execution_count": 11,
   "metadata": {},
   "outputs": [
    {
     "name": "stdout",
     "output_type": "stream",
     "text": [
      "[   1   14   22   16   43  530  973 1622 1385   65  458 4468   66 3941\n",
      "    4  173   36  256    5   25  100   43  838  112   50  670    2    9\n",
      "   35  480  284    5  150    4  172  112  167    2  336  385   39    4\n",
      "  172 4536 1111   17  546   38   13  447    4  192   50   16    6  147\n",
      " 2025   19   14   22    4 1920 4613  469    4   22   71   87   12   16\n",
      "   43  530   38   76   15   13 1247    4   22   17  515   17   12   16\n",
      "  626   18    2    5   62  386   12    8  316    8  106    5    4 2223\n",
      " 5244   16  480   66 3785   33    4  130   12   16   38  619    5   25\n",
      "  124   51   36  135   48   25 1415   33    6   22   12  215   28   77\n",
      "   52    5   14  407   16   82    2    8    4  107  117 5952   15  256\n",
      "    4    2    7 3766    5  723   36   71   43  530  476   26  400  317\n",
      "   46    7    4    2 1029   13  104   88    4  381   15  297   98   32\n",
      " 2071   56   26  141    6  194 7486   18    4  226   22   21  134  476\n",
      "   26  480    5  144   30 5535   18   51   36   28  224   92   25  104\n",
      "    4  226   65   16   38 1334   88   12   16  283    5   16 4472  113\n",
      "  103   32   15   16 5345   19  178   32    0    0    0    0    0    0\n",
      "    0    0    0    0    0    0    0    0    0    0    0    0    0    0\n",
      "    0    0    0    0    0    0    0    0    0    0    0    0    0    0\n",
      "    0    0    0    0]\n"
     ]
    }
   ],
   "source": [
    "print(train_data[0])"
   ]
  },
  {
   "cell_type": "code",
   "execution_count": 27,
   "metadata": {},
   "outputs": [
    {
     "name": "stdout",
     "output_type": "stream",
     "text": [
      "Model: \"sequential_1\"\n",
      "_________________________________________________________________\n",
      "Layer (type)                 Output Shape              Param #   \n",
      "=================================================================\n",
      "embedding_1 (Embedding)      (None, None, 16)          160000    \n",
      "_________________________________________________________________\n",
      "global_average_pooling1d_1 ( (None, 16)                0         \n",
      "_________________________________________________________________\n",
      "dense_2 (Dense)              (None, 16)                272       \n",
      "_________________________________________________________________\n",
      "dense_3 (Dense)              (None, 1)                 17        \n",
      "=================================================================\n",
      "Total params: 160,289\n",
      "Trainable params: 160,289\n",
      "Non-trainable params: 0\n",
      "_________________________________________________________________\n"
     ]
    }
   ],
   "source": [
    "# 모델 구성\n",
    "# 얼마나 많은 층을 사용할 것인가?\n",
    "# 각 층에서 얼마나 많은 은닉 유닛(hidden unit)을 사용할 것인가?\n",
    "# 무슨 말인지 모르겠다.\n",
    "\n",
    "# 입력 크기는 영화 리뷰 데이터셋에 적용된 어휘 사전의 크기.( 10,000 개의 단어 )\n",
    "vocab_size = 10000\n",
    "\n",
    "model = keras.Sequential()\n",
    "model.add(keras.layers.Embedding(vocab_size, 16, input_shape=(None,)))\n",
    "model.add(keras.layers.GlobalAveragePooling1D())\n",
    "model.add(keras.layers.Dense(16, activation='relu'))\n",
    "model.add(keras.layers.Dense(1, activation='sigmoid'))\n",
    "\n",
    "model.summary()\n",
    "\n",
    "# 첫 번째 층은 Embedding층. 정수로 인코딩 된 단어를 입력 받고 각 단어 인덱스에 해당하는 임베딩 벡터를 찾는다.\n",
    "# 두 번째 층은 sequence 차원에 대해 평균을 계산하여 각 샘플에 대해 고정된 길이의 출력 벡터를 반환한다.\n",
    "# 이 고정 길이의 출력 벡터는 16개의 은닉 유닛을 가진 완전 연결(fully-connected)층을 거친다.\n",
    "# 마지막 층은 하나의 출력 노드(node)를 가진 완전 연결 층. sigmoid 활성화 함수를 사용하여 0과 1 사이의 실수를 출력한다.\n",
    "# 이 값은 신뢰도를 나타냄."
   ]
  },
  {
   "cell_type": "code",
   "execution_count": 69,
   "metadata": {},
   "outputs": [],
   "source": [
    "model.compile(optimizer='adam',\n",
    "              loss='binary_crossentropy',\n",
    "              metrics=['accuracy'])"
   ]
  },
  {
   "cell_type": "code",
   "execution_count": 70,
   "metadata": {},
   "outputs": [],
   "source": [
    "# 검증 세트 만들기\n",
    "# 원본 훈련 데이터에서 10,000개의 샘플을 이용하여 검증 세트를 만든다.\n",
    "\n",
    "x_val = train_data[:10000]\n",
    "partial_x_train = train_data[10000:]\n",
    "\n",
    "y_val = train_labels[:10000]\n",
    "partial_y_train = train_labels[10000:]"
   ]
  },
  {
   "cell_type": "code",
   "execution_count": 71,
   "metadata": {},
   "outputs": [
    {
     "name": "stdout",
     "output_type": "stream",
     "text": [
      "Epoch 1/40\n",
      "30/30 [==============================] - 1s 22ms/step - loss: 0.0320 - accuracy: 0.9972 - val_loss: 0.5060 - val_accuracy: 0.8691\n",
      "Epoch 2/40\n",
      "30/30 [==============================] - 1s 22ms/step - loss: 0.0300 - accuracy: 0.9973 - val_loss: 0.5086 - val_accuracy: 0.8686\n",
      "Epoch 3/40\n",
      "30/30 [==============================] - 1s 26ms/step - loss: 0.0290 - accuracy: 0.9973 - val_loss: 0.5153 - val_accuracy: 0.8687\n",
      "Epoch 4/40\n",
      "30/30 [==============================] - 1s 20ms/step - loss: 0.0274 - accuracy: 0.9974 - val_loss: 0.5280 - val_accuracy: 0.8686\n",
      "Epoch 5/40\n",
      "30/30 [==============================] - 1s 21ms/step - loss: 0.0260 - accuracy: 0.9974 - val_loss: 0.5340 - val_accuracy: 0.8682\n",
      "Epoch 6/40\n",
      "30/30 [==============================] - 1s 20ms/step - loss: 0.0251 - accuracy: 0.9975 - val_loss: 0.5352 - val_accuracy: 0.8681\n",
      "Epoch 7/40\n",
      "30/30 [==============================] - 1s 22ms/step - loss: 0.0236 - accuracy: 0.9976 - val_loss: 0.5399 - val_accuracy: 0.8684\n",
      "Epoch 8/40\n",
      "30/30 [==============================] - 1s 24ms/step - loss: 0.0223 - accuracy: 0.9975 - val_loss: 0.5512 - val_accuracy: 0.8671\n",
      "Epoch 9/40\n",
      "30/30 [==============================] - 1s 23ms/step - loss: 0.0211 - accuracy: 0.9977 - val_loss: 0.5582 - val_accuracy: 0.8667\n",
      "Epoch 10/40\n",
      "30/30 [==============================] - 1s 22ms/step - loss: 0.0202 - accuracy: 0.9978 - val_loss: 0.5610 - val_accuracy: 0.8666\n",
      "Epoch 11/40\n",
      "30/30 [==============================] - 1s 24ms/step - loss: 0.0191 - accuracy: 0.9978 - val_loss: 0.5683 - val_accuracy: 0.8662\n",
      "Epoch 12/40\n",
      "30/30 [==============================] - 1s 25ms/step - loss: 0.0183 - accuracy: 0.9979 - val_loss: 0.5772 - val_accuracy: 0.8664\n",
      "Epoch 13/40\n",
      "30/30 [==============================] - 1s 28ms/step - loss: 0.0175 - accuracy: 0.9978 - val_loss: 0.5808 - val_accuracy: 0.8655\n",
      "Epoch 14/40\n",
      "30/30 [==============================] - 1s 24ms/step - loss: 0.0163 - accuracy: 0.9980 - val_loss: 0.5973 - val_accuracy: 0.8644\n",
      "Epoch 15/40\n",
      "30/30 [==============================] - 1s 24ms/step - loss: 0.0155 - accuracy: 0.9980 - val_loss: 0.5957 - val_accuracy: 0.8644\n",
      "Epoch 16/40\n",
      "30/30 [==============================] - 1s 31ms/step - loss: 0.0145 - accuracy: 0.9984 - val_loss: 0.6036 - val_accuracy: 0.8655\n",
      "Epoch 17/40\n",
      "30/30 [==============================] - 1s 27ms/step - loss: 0.0137 - accuracy: 0.9983 - val_loss: 0.6119 - val_accuracy: 0.8644\n",
      "Epoch 18/40\n",
      "30/30 [==============================] - 1s 28ms/step - loss: 0.0128 - accuracy: 0.9985 - val_loss: 0.6249 - val_accuracy: 0.8635\n",
      "Epoch 19/40\n",
      "30/30 [==============================] - 1s 25ms/step - loss: 0.0122 - accuracy: 0.9986 - val_loss: 0.6451 - val_accuracy: 0.8627\n",
      "Epoch 20/40\n",
      "30/30 [==============================] - 1s 26ms/step - loss: 0.0110 - accuracy: 0.9987 - val_loss: 0.6412 - val_accuracy: 0.8627\n",
      "Epoch 21/40\n",
      "30/30 [==============================] - 1s 30ms/step - loss: 0.0102 - accuracy: 0.9989 - val_loss: 0.6545 - val_accuracy: 0.8621\n",
      "Epoch 22/40\n",
      "30/30 [==============================] - 1s 23ms/step - loss: 0.0098 - accuracy: 0.9989 - val_loss: 0.6552 - val_accuracy: 0.8612\n",
      "Epoch 23/40\n",
      "30/30 [==============================] - 1s 24ms/step - loss: 0.0087 - accuracy: 0.9989 - val_loss: 0.6683 - val_accuracy: 0.8608\n",
      "Epoch 24/40\n",
      "30/30 [==============================] - 1s 27ms/step - loss: 0.0081 - accuracy: 0.9991 - val_loss: 0.6807 - val_accuracy: 0.8608\n",
      "Epoch 25/40\n",
      "30/30 [==============================] - 1s 25ms/step - loss: 0.0074 - accuracy: 0.9991 - val_loss: 0.6818 - val_accuracy: 0.8603\n",
      "Epoch 26/40\n",
      "30/30 [==============================] - 1s 28ms/step - loss: 0.0070 - accuracy: 0.9992 - val_loss: 0.6908 - val_accuracy: 0.8607\n",
      "Epoch 27/40\n",
      "30/30 [==============================] - 1s 27ms/step - loss: 0.0064 - accuracy: 0.9995 - val_loss: 0.7125 - val_accuracy: 0.8613\n",
      "Epoch 28/40\n",
      "30/30 [==============================] - 1s 27ms/step - loss: 0.0060 - accuracy: 0.9995 - val_loss: 0.7042 - val_accuracy: 0.8589\n",
      "Epoch 29/40\n",
      "30/30 [==============================] - 1s 29ms/step - loss: 0.0055 - accuracy: 0.9995 - val_loss: 0.7156 - val_accuracy: 0.8596\n",
      "Epoch 30/40\n",
      "30/30 [==============================] - 1s 25ms/step - loss: 0.0048 - accuracy: 0.9995 - val_loss: 0.7303 - val_accuracy: 0.8596\n",
      "Epoch 31/40\n",
      "30/30 [==============================] - 1s 29ms/step - loss: 0.0042 - accuracy: 0.9996 - val_loss: 0.7392 - val_accuracy: 0.8600\n",
      "Epoch 32/40\n",
      "30/30 [==============================] - 1s 27ms/step - loss: 0.0038 - accuracy: 0.9997 - val_loss: 0.7468 - val_accuracy: 0.8589\n",
      "Epoch 33/40\n",
      "30/30 [==============================] - 1s 25ms/step - loss: 0.0034 - accuracy: 0.9997 - val_loss: 0.7510 - val_accuracy: 0.8596\n",
      "Epoch 34/40\n",
      "30/30 [==============================] - 1s 24ms/step - loss: 0.0031 - accuracy: 0.9998 - val_loss: 0.7610 - val_accuracy: 0.8595\n",
      "Epoch 35/40\n",
      "30/30 [==============================] - 1s 26ms/step - loss: 0.0028 - accuracy: 0.9999 - val_loss: 0.7761 - val_accuracy: 0.8598\n",
      "Epoch 36/40\n",
      "30/30 [==============================] - 1s 28ms/step - loss: 0.0026 - accuracy: 0.9999 - val_loss: 0.7806 - val_accuracy: 0.8599\n",
      "Epoch 37/40\n",
      "30/30 [==============================] - 1s 27ms/step - loss: 0.0025 - accuracy: 0.9999 - val_loss: 0.7920 - val_accuracy: 0.8591\n",
      "Epoch 38/40\n",
      "30/30 [==============================] - 1s 26ms/step - loss: 0.0023 - accuracy: 0.9999 - val_loss: 0.7994 - val_accuracy: 0.8593\n",
      "Epoch 39/40\n",
      "30/30 [==============================] - 1s 26ms/step - loss: 0.0022 - accuracy: 0.9999 - val_loss: 0.8043 - val_accuracy: 0.8592\n",
      "Epoch 40/40\n",
      "30/30 [==============================] - 1s 27ms/step - loss: 0.0021 - accuracy: 0.9999 - val_loss: 0.8122 - val_accuracy: 0.8595\n"
     ]
    }
   ],
   "source": [
    "# 모델 훈련\n",
    "\n",
    "history = model.fit(partial_x_train,\n",
    "                   partial_y_train,\n",
    "                   epochs=40,\n",
    "                   batch_size=512,\n",
    "                   validation_data=(x_val, y_val),\n",
    "                   verbose=1)"
   ]
  },
  {
   "cell_type": "code",
   "execution_count": 72,
   "metadata": {},
   "outputs": [
    {
     "name": "stdout",
     "output_type": "stream",
     "text": [
      "782/782 - 1s - loss: 0.8683 - accuracy: 0.8453\n",
      "[0.8682515621185303, 0.8453199863433838]\n"
     ]
    }
   ],
   "source": [
    "result = model.evaluate(test_data, test_labels, verbose=2)\n",
    "print(result)"
   ]
  },
  {
   "cell_type": "code",
   "execution_count": 73,
   "metadata": {},
   "outputs": [
    {
     "data": {
      "text/plain": [
       "dict_keys(['loss', 'accuracy', 'val_loss', 'val_accuracy'])"
      ]
     },
     "execution_count": 73,
     "metadata": {},
     "output_type": "execute_result"
    }
   ],
   "source": [
    "#정확도와 손실 그래프 그리기\n",
    "history_dict = history.history\n",
    "history_dict.keys()"
   ]
  },
  {
   "cell_type": "code",
   "execution_count": 75,
   "metadata": {},
   "outputs": [
    {
     "data": {
      "image/png": "[encoded data removed]",
      "text/plain": [
       "<Figure size 432x288 with 1 Axes>"
      ]
     },
     "metadata": {
      "needs_background": "light"
     },
     "output_type": "display_data"
    },
    {
     "data": {
      "image/png": "[encoded data removed]",
      "text/plain": [
       "<Figure size 432x288 with 1 Axes>"
      ]
     },
     "metadata": {
      "needs_background": "light"
     },
     "output_type": "display_data"
    }
   ],
   "source": [
    "# 훈련 손실과 검증 손실을 그래프로 그려보고, 훈련 정확도와 검증 정확도도 그래프로 그려본다.\n",
    "\n",
    "import matplotlib.pyplot as plt\n",
    "\n",
    "history_dict = history.history\n",
    "\n",
    "history_dict.keys()\n",
    "\n",
    "\n",
    "acc = history.history['accuracy']\n",
    "val_acc = history.history['val_accuracy']\n",
    "loss = history.history['loss']\n",
    "val_loss = history.history['val_loss']\n",
    "\n",
    "epochs = range(1, len(acc) + 1)\n",
    "\n",
    "# \"bo\" is for \"blue dot\"\n",
    "plt.plot(epochs, loss, 'bo', label='Training loss')\n",
    "# b is for \"solid blue line\"\n",
    "plt.plot(epochs, val_loss, 'b', label='Validation loss')\n",
    "plt.title('Training and validation loss')\n",
    "plt.xlabel('Epochs')\n",
    "plt.ylabel('Loss')\n",
    "plt.legend()\n",
    "\n",
    "plt.show()\n",
    "\n",
    "\n",
    "plt.clf()   # clear figure\n",
    "acc_values = history_dict['accuracy']\n",
    "val_acc_values = history_dict['val_accuracy']\n",
    "\n",
    "plt.plot(epochs, acc, 'bo', label='Training acc')\n",
    "plt.plot(epochs, val_acc, 'b', label='Validation acc')\n",
    "plt.title('Training and validation accuracy')\n",
    "plt.xlabel('Epochs')\n",
    "plt.ylabel('Accuracy')\n",
    "plt.legend()\n",
    "\n",
    "plt.show()"
   ]
  },
  {
   "cell_type": "code",
   "execution_count": 76,
   "metadata": {},
   "outputs": [
    {
     "data": {
      "image/png": "[encoded data removed]",
      "text/plain": [
       "<Figure size 432x288 with 1 Axes>"
      ]
     },
     "metadata": {
      "needs_background": "light"
     },
     "output_type": "display_data"
    }
   ],
   "source": [
    "\n",
    "plt.clf()\n",
    "\n",
    "plt.plot(epochs, acc, 'bo', label='Training acc')\n",
    "plt.plot(epochs, val_acc, 'b', label='Validation acc')\n",
    "plt.title('Training and validation accuracy')\n",
    "plt.xlabel('Epochs')\n",
    "plt.ylabel('Accuracy')\n",
    "plt.legend()\n",
    "\n",
    "plt.show()"
   ]
  },
  {
   "cell_type": "markdown",
   "metadata": {},
   "source": [
    "# 마치며\n",
    "\n",
    "훈련 손실은 에포크마다 감소하고 훈련 정확도는 증가한다.\n",
    "\n",
    "검증 손실과 검증 정확도에서는 약 20번째 에포크 이후가 최적점.\n",
    "\n",
    "문서에서는 과대적합 때문이라고 하는데,\n",
    "\n",
    "모델이 트레이닝 셋으로만 학습을 해서 처음 마주하는 데이터인 테스트 셋에서는 일반화되기 어렵기 때문이라고 한다."
   ]
  },
  {
   "cell_type": "code",
   "execution_count": 81,
   "metadata": {},
   "outputs": [
    {
     "name": "stdout",
     "output_type": "stream",
     "text": [
      "[0.00146806]\n",
      "[0] \n",
      "\n",
      "[1.]\n",
      "[1] \n",
      "\n",
      "[0.20968866]\n",
      "[0] \n",
      "\n",
      "[0.99921995]\n",
      "[1] \n",
      "\n",
      "[0.99999976]\n",
      "[1] \n",
      "\n",
      "[0.99999976]\n",
      "[1] \n",
      "\n",
      "[0.5426943]\n",
      "[1] \n",
      "\n",
      "[0.00044596]\n",
      "[0] \n",
      "\n",
      "[0.987786]\n",
      "[1] \n",
      "\n",
      "[1.]\n",
      "[1] \n",
      "\n"
     ]
    }
   ],
   "source": [
    "predictions = model.predict(test_data)\n",
    "predict_class = model.predict_classes(test_data)\n",
    "for i in range(0,10):\n",
    "    print(predictions[i].T)\n",
    "    print(predict_class[i].T, '\\n')"
   ]
  },
  {
   "cell_type": "code",
   "execution_count": 51,
   "metadata": {},
   "outputs": [
    {
     "data": {
      "text/plain": [
       "\"a lot of patience because it focuses on mood and character development the plot is very simple and many of the scenes take place on the same set in frances <UNK> the sandy dennis character apartment but the film builds to a disturbing climax br br the characters create an atmosphere <UNK> with sexual tension and psychological <UNK> it's very interesting that robert altman directed this considering the style and structure of his other films still the trademark altman audio style is evident here and there i think what really makes this film work is the brilliant performance by sandy dennis it's definitely one of her darker characters but she plays it so perfectly and convincingly that it's scary michael burns does a good job as the mute young man regular altman player michael murphy has a small part the <UNK> moody set fits the content of the story very well in short this movie is a powerful study of loneliness sexual <UNK> and desperation be patient <UNK> up the atmosphere and pay attention to the wonderfully written script br br i praise robert altman this is one of his many films that deals with unconventional fascinating subject matter this film is disturbing but it's sincere and it's sure to <UNK> a strong emotional response from the viewer if you want to see an unusual film some might even say bizarre this is worth the time br br unfortunately it's very difficult to find in video stores you may have to buy it off the internet\""
      ]
     },
     "execution_count": 51,
     "metadata": {},
     "output_type": "execute_result"
    }
   ],
   "source": [
    "decode_review(test_data[1])"
   ]
  },
  {
   "cell_type": "code",
   "execution_count": null,
   "metadata": {},
   "outputs": [],
   "source": []
  }
 ],
 "metadata": {
  "kernelspec": {
   "display_name": "Python 3",
   "language": "python",
   "name": "python3"
  },
  "language_info": {
   "codemirror_mode": {
    "name": "ipython",
    "version": 3
   },
   "file_extension": ".py",
   "mimetype": "text/x-python",
   "name": "python",
   "nbconvert_exporter": "python",
   "pygments_lexer": "ipython3",
   "version": "3.7.4"
  }
 },
 "nbformat": 4,
 "nbformat_minor": 2
}
