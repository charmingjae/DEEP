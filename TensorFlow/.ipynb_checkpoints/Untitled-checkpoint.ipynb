{
 "cells": [
  {
   "cell_type": "code",
   "execution_count": 5,
   "metadata": {},
   "outputs": [
    {
     "data": {
      "text/html": [
       "<div>\n",
       "<style scoped>\n",
       "    .dataframe tbody tr th:only-of-type {\n",
       "        vertical-align: middle;\n",
       "    }\n",
       "\n",
       "    .dataframe tbody tr th {\n",
       "        vertical-align: top;\n",
       "    }\n",
       "\n",
       "    .dataframe thead th {\n",
       "        text-align: right;\n",
       "    }\n",
       "</style>\n",
       "<table border=\"1\" class=\"dataframe\">\n",
       "  <thead>\n",
       "    <tr style=\"text-align: right;\">\n",
       "      <th></th>\n",
       "      <th>Samsung E</th>\n",
       "      <th>Kaka O</th>\n",
       "    </tr>\n",
       "  </thead>\n",
       "  <tbody>\n",
       "    <tr>\n",
       "      <th>Samsung E</th>\n",
       "      <td>1.000000</td>\n",
       "      <td>0.315118</td>\n",
       "    </tr>\n",
       "    <tr>\n",
       "      <th>Kaka O</th>\n",
       "      <td>0.315118</td>\n",
       "      <td>1.000000</td>\n",
       "    </tr>\n",
       "  </tbody>\n",
       "</table>\n",
       "</div>"
      ],
      "text/plain": [
       "           Samsung E    Kaka O\n",
       "Samsung E   1.000000  0.315118\n",
       "Kaka O      0.315118  1.000000"
      ]
     },
     "execution_count": 5,
     "metadata": {},
     "output_type": "execute_result"
    }
   ],
   "source": [
    "import numpy as np\n",
    "\n",
    "import pandas as pan\n",
    "\n",
    "import pandas_datareader as pd\n",
    "\n",
    "\n",
    "import FinanceDataReader as fdr\n",
    "\n",
    "sm=pd.DataReader(\"005930.ks\",\"yahoo\",\"2018-01-01\",\"2018-12-31\")\n",
    "sm.tail()\n",
    "\n",
    "ka=pd.DataReader(\"035720.ks\",\"yahoo\",\"2018-01-01\",\"2018-12-31\")\n",
    "ka.tail()\n",
    "\n",
    "kasm = [\"005930\",\"035720\"]\n",
    "kasm_data = pan.DataFrame()\n",
    "for x in kasm:\n",
    "    kasm_data[x] = fdr.DataReader(x,\"2018-01-01\",\"2018-12-31\")[\"Close\"]\n",
    "\n",
    "kasm_data.head()\n",
    "\n",
    "code_names = {\"005930\" : \"Samsung E\",\"035720\" : \"Kaka O\"}\n",
    "kasm_data = kasm_data.rename(columns=code_names)\n",
    "\n",
    "kasm_data.head()\n",
    "\n",
    "changes = kasm_data.pct_change()\n",
    "\n",
    "changes.head()\n",
    "\n",
    "changes.corr()\n"
   ]
  },
  {
   "cell_type": "code",
   "execution_count": 40,
   "metadata": {},
   "outputs": [
    {
     "data": {
      "text/plain": [
       "0.31511751060634485"
      ]
     },
     "execution_count": 40,
     "metadata": {},
     "output_type": "execute_result"
    }
   ],
   "source": [
    "changes.corr().iloc[0,1]"
   ]
  },
  {
   "cell_type": "code",
   "execution_count": 48,
   "metadata": {},
   "outputs": [
    {
     "name": "stdout",
     "output_type": "stream",
     "text": [
      "<bound method NDFrame.abs of            Samsung E    Kaka O\n",
      "Samsung E   1.000000  0.315118\n",
      "Kaka O      0.315118  1.000000>\n"
     ]
    }
   ],
   "source": [
    "print(changes.corr().abs)"
   ]
  },
  {
   "cell_type": "code",
   "execution_count": 74,
   "metadata": {},
   "outputs": [
    {
     "data": {
      "text/plain": [
       "0.31511751060634485"
      ]
     },
     "execution_count": 74,
     "metadata": {},
     "output_type": "execute_result"
    }
   ],
   "source": [
    "changes['Samsung E'].corr(changes['Kaka O'])"
   ]
  },
  {
   "cell_type": "code",
   "execution_count": 77,
   "metadata": {},
   "outputs": [
    {
     "data": {
      "text/plain": [
       "1.0"
      ]
     },
     "execution_count": 77,
     "metadata": {},
     "output_type": "execute_result"
    }
   ],
   "source": [
    "changes['Kaka O'].corr(changes['Kaka O'])"
   ]
  },
  {
   "cell_type": "code",
   "execution_count": null,
   "metadata": {},
   "outputs": [],
   "source": []
  }
 ],
 "metadata": {
  "kernelspec": {
   "display_name": "Python 3",
   "language": "python",
   "name": "python3"
  },
  "language_info": {
   "codemirror_mode": {
    "name": "ipython",
    "version": 3
   },
   "file_extension": ".py",
   "mimetype": "text/x-python",
   "name": "python",
   "nbconvert_exporter": "python",
   "pygments_lexer": "ipython3",
   "version": "3.7.4"
  }
 },
 "nbformat": 4,
 "nbformat_minor": 2
}
