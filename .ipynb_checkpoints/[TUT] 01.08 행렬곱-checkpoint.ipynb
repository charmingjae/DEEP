{
 "cells": [
  {
   "cell_type": "markdown",
   "metadata": {},
   "source": [
    "# 3분 파이토치 행렬곱"
   ]
  },
  {
   "cell_type": "code",
   "execution_count": 1,
   "metadata": {},
   "outputs": [],
   "source": [
    "import torch"
   ]
  },
  {
   "cell_type": "code",
   "execution_count": 3,
   "metadata": {},
   "outputs": [
    {
     "name": "stdout",
     "output_type": "stream",
     "text": [
      "w size: torch.Size([5, 3])\n",
      "x size: torch.Size([3, 2])\n",
      "w: tensor([[ 1.1424,  1.0928,  3.0784],\n",
      "        [ 3.7017,  0.6591, -0.3242],\n",
      "        [ 0.4653,  0.0460,  0.8830],\n",
      "        [ 0.6252,  0.4311,  1.5294],\n",
      "        [-0.6729,  0.6457,  0.5548]])\n",
      "x: tensor([[1., 2.],\n",
      "        [3., 4.],\n",
      "        [5., 6.]])\n"
     ]
    }
   ],
   "source": [
    "w=torch.randn(5,3,dtype=torch.float)\n",
    "x=torch.tensor([[1.0,2.0],[3.0,4.0],[5.0,6.0]])\n",
    "print(\"w size:\", w.size())\n",
    "print(\"x size:\", x.size())\n",
    "print(\"w:\",w)\n",
    "print(\"x:\",x)"
   ]
  },
  {
   "cell_type": "code",
   "execution_count": 5,
   "metadata": {},
   "outputs": [
    {
     "name": "stdout",
     "output_type": "stream",
     "text": [
      "b size: torch.Size([5, 2])\n",
      "b: tensor([[-0.9407, -1.5463],\n",
      "        [-1.0238,  1.4845],\n",
      "        [-1.2829, -1.3693],\n",
      "        [ 0.2686,  1.0498],\n",
      "        [ 0.4393, -0.3484]])\n"
     ]
    }
   ],
   "source": [
    "b = torch.randn(5,2,dtype=torch.float)\n",
    "print(\"b size:\", b.size())\n",
    "print(\"b:\",b)"
   ]
  },
  {
   "cell_type": "code",
   "execution_count": 6,
   "metadata": {},
   "outputs": [],
   "source": [
    "wx = torch.mm(w,x)"
   ]
  },
  {
   "cell_type": "code",
   "execution_count": 7,
   "metadata": {},
   "outputs": [
    {
     "name": "stdout",
     "output_type": "stream",
     "text": [
      "wx size: torch.Size([5, 2])\n",
      "wx: tensor([[19.8125, 25.1261],\n",
      "        [ 4.0581,  8.0948],\n",
      "        [ 5.0184,  6.4127],\n",
      "        [ 9.5657, 12.1515],\n",
      "        [ 4.0385,  4.5662]])\n"
     ]
    }
   ],
   "source": [
    "print(\"wx size:\", wx.size())\n",
    "print(\"wx:\",wx)"
   ]
  },
  {
   "cell_type": "code",
   "execution_count": 8,
   "metadata": {},
   "outputs": [
    {
     "name": "stdout",
     "output_type": "stream",
     "text": [
      "result size: torch.Size([5, 2])\n",
      "result: tensor([[18.8719, 23.5799],\n",
      "        [ 3.0343,  9.5792],\n",
      "        [ 3.7354,  5.0434],\n",
      "        [ 9.8343, 13.2013],\n",
      "        [ 4.4778,  4.2178]])\n"
     ]
    }
   ],
   "source": [
    "result = wx + b\n",
    "print(\"result size:\", result.size())\n",
    "print(\"result:\", result)"
   ]
  },
  {
   "cell_type": "code",
   "execution_count": null,
   "metadata": {},
   "outputs": [],
   "source": []
  }
 ],
 "metadata": {
  "kernelspec": {
   "display_name": "Python 3",
   "language": "python",
   "name": "python3"
  },
  "language_info": {
   "codemirror_mode": {
    "name": "ipython",
    "version": 3
   },
   "file_extension": ".py",
   "mimetype": "text/x-python",
   "name": "python",
   "nbconvert_exporter": "python",
   "pygments_lexer": "ipython3",
   "version": "3.7.4"
  }
 },
 "nbformat": 4,
 "nbformat_minor": 2
}
